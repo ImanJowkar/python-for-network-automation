{
 "cells": [
  {
   "attachments": {},
   "cell_type": "markdown",
   "metadata": {},
   "source": [
    "# Read from a file"
   ]
  },
  {
   "cell_type": "code",
   "execution_count": 15,
   "metadata": {},
   "outputs": [
    {
     "name": "stdout",
     "output_type": "stream",
     "text": [
      "hostname Router1\n",
      "int loopback 3\n",
      "ip address 3.3.3.3 255.255.255.255\n",
      "exit\n",
      "router ospf 1\n",
      "network 0.0.0.0 0.0.0.0 area 0\n",
      "distance 60\n",
      "default-information originate\n"
     ]
    }
   ],
   "source": [
    "f = open('configuration.txt', 'r')\n",
    "content = f.read()\n",
    "print(content)"
   ]
  },
  {
   "cell_type": "code",
   "execution_count": 4,
   "metadata": {},
   "outputs": [
    {
     "name": "stdout",
     "output_type": "stream",
     "text": [
      "False\n",
      "True\n"
     ]
    }
   ],
   "source": [
    "f = open('configuration.txt', 'r')\n",
    "content = f.read()\n",
    "print(f.closed)\n",
    "f.close()\n",
    "print(f.closed)"
   ]
  },
  {
   "cell_type": "code",
   "execution_count": 5,
   "metadata": {},
   "outputs": [
    {
     "name": "stdout",
     "output_type": "stream",
     "text": [
      "hostname R\n"
     ]
    }
   ],
   "source": [
    "f = open('configuration.txt', 'r')\n",
    "content = f.read(10)\n",
    "print(content)"
   ]
  },
  {
   "cell_type": "code",
   "execution_count": 9,
   "metadata": {},
   "outputs": [
    {
     "name": "stdout",
     "output_type": "stream",
     "text": [
      "10\n",
      "3\n",
      "tname Router1\n",
      "int loopback 3\n",
      "ip address 3.3.3.3 255.255.255.255\n",
      "exit\n",
      "router ospf 1\n",
      "network 0.0.0.0 0.0.0.0 area 0\n",
      "distance 60\n",
      "default-information originate\n"
     ]
    }
   ],
   "source": [
    "f = open('configuration.txt', 'r')\n",
    "content = f.read(10)\n",
    "print(f.tell()) # print the cursor position.\n",
    "f.seek(3) # set cursor to the 3 position\n",
    "f.seek(0) # set cursor to the begining of the file.\n",
    "print(f.tell()) # print the cursor position\n",
    "print(f.read())"
   ]
  },
  {
   "cell_type": "code",
   "execution_count": 10,
   "metadata": {},
   "outputs": [
    {
     "name": "stdout",
     "output_type": "stream",
     "text": [
      "hostname Router1\n",
      "int loopback 3\n",
      "ip address 3.3.3.3 255.255.255.255\n",
      "exit\n",
      "router ospf 1\n",
      "network 0.0.0.0 0.0.0.0 area 0\n",
      "distance 60\n",
      "default-information originate\n",
      "None\n"
     ]
    }
   ],
   "source": [
    "with open('configuration.txt', 'r') as file:\n",
    "    print(file.read())\n",
    "\n",
    "print(file.close())"
   ]
  },
  {
   "cell_type": "code",
   "execution_count": 11,
   "metadata": {},
   "outputs": [
    {
     "name": "stdout",
     "output_type": "stream",
     "text": [
      "['hostname Router1', 'int loopback 3', 'ip address 3.3.3.3 255.255.255.255', 'exit', 'router ospf 1', 'network 0.0.0.0 0.0.0.0 area 0', 'distance 60', 'default-information originate']\n"
     ]
    }
   ],
   "source": [
    "with open('configuration.txt', 'r') as file:\n",
    "    my_list = file.read().splitlines()\n",
    "    print(my_list)"
   ]
  },
  {
   "cell_type": "code",
   "execution_count": 12,
   "metadata": {},
   "outputs": [
    {
     "name": "stdout",
     "output_type": "stream",
     "text": [
      "['hostname Router1\\n', 'int loopback 3\\n', 'ip address 3.3.3.3 255.255.255.255\\n', 'exit\\n', 'router ospf 1\\n', 'network 0.0.0.0 0.0.0.0 area 0\\n', 'distance 60\\n', 'default-information originate']\n"
     ]
    }
   ],
   "source": [
    "with open('configuration.txt', 'r') as file:\n",
    "    my_list = file.readlines()\n",
    "    print(my_list)"
   ]
  },
  {
   "cell_type": "code",
   "execution_count": 13,
   "metadata": {},
   "outputs": [
    {
     "name": "stdout",
     "output_type": "stream",
     "text": [
      "hostname Router1\n",
      "\n",
      "int loopback 3\n",
      "\n",
      "ip address 3.3.3.3 255.255.255.255\n",
      "\n",
      "exit\n",
      "\n",
      "router ospf 1\n",
      "\n",
      "network 0.0.0.0 0.0.0.0 area 0\n",
      "\n",
      "distance 60\n",
      "\n",
      "default-information originate\n"
     ]
    }
   ],
   "source": [
    "with open('configuration.txt', 'r') as file:\n",
    "    for line in file:\n",
    "        print(line)"
   ]
  },
  {
   "cell_type": "code",
   "execution_count": 14,
   "metadata": {},
   "outputs": [
    {
     "name": "stdout",
     "output_type": "stream",
     "text": [
      "['hostname Router1\\n', 'int loopback 3\\n', 'ip address 3.3.3.3 255.255.255.255\\n', 'exit\\n', 'router ospf 1\\n', 'network 0.0.0.0 0.0.0.0 area 0\\n', 'distance 60\\n', 'default-information originate']\n"
     ]
    }
   ],
   "source": [
    "li = []\n",
    "with open('configuration.txt', 'r') as file:\n",
    "    for line in file:\n",
    "        li.append(line)\n",
    "print(li)"
   ]
  },
  {
   "attachments": {},
   "cell_type": "markdown",
   "metadata": {},
   "source": [
    "# Write to a file"
   ]
  },
  {
   "cell_type": "code",
   "execution_count": 17,
   "metadata": {},
   "outputs": [],
   "source": [
    "with open(\"sample-file.txt\", 'w') as f:\n",
    "    f.write(\"This is a sample file for test\\n\")\n",
    "    f.write(\"This is line two\")"
   ]
  },
  {
   "cell_type": "code",
   "execution_count": 35,
   "metadata": {},
   "outputs": [],
   "source": [
    "with open('configuration.txt', 'r+') as f:\n",
    "    f.write(\"Open file in read and write mode\")"
   ]
  },
  {
   "attachments": {},
   "cell_type": "markdown",
   "metadata": {},
   "source": [
    "# Read from CSV file"
   ]
  },
  {
   "cell_type": "code",
   "execution_count": 23,
   "metadata": {},
   "outputs": [
    {
     "name": "stdout",
     "output_type": "stream",
     "text": [
      "['Month', ' \"1958\"', ' \"1959\"', ' \"1960\"']\n",
      "['JAN', '  340', '  360', '  417']\n",
      "['FEB', '  318', '  342', '  391']\n",
      "['MAR', '  362', '  406', '  419']\n",
      "['APR', '  348', '  396', '  461']\n",
      "['MAY', '  363', '  420', '  472']\n",
      "['JUN', '  435', '  472', '  535']\n",
      "['JUL', '  491', '  548', '  622']\n",
      "['AUG', '  505', '  559', '  606']\n",
      "['SEP', '  404', '  463', '  508']\n",
      "['OCT', '  359', '  407', '  461']\n",
      "['NOV', '  310', '  362', '  390']\n",
      "['DEC', '  337', '  405', '  432']\n"
     ]
    }
   ],
   "source": [
    "import csv\n",
    "with open('airtravel.csv') as f:\n",
    "    reader = csv.reader(f)\n",
    "    for row in reader:\n",
    "        print(row)"
   ]
  },
  {
   "cell_type": "code",
   "execution_count": 26,
   "metadata": {},
   "outputs": [
    {
     "name": "stdout",
     "output_type": "stream",
     "text": [
      "['JAN', '  340', '  360', '  417']\n",
      "['FEB', '  318', '  342', '  391']\n",
      "['MAR', '  362', '  406', '  419']\n",
      "['APR', '  348', '  396', '  461']\n",
      "['MAY', '  363', '  420', '  472']\n",
      "['JUN', '  435', '  472', '  535']\n",
      "['JUL', '  491', '  548', '  622']\n",
      "['AUG', '  505', '  559', '  606']\n",
      "['SEP', '  404', '  463', '  508']\n",
      "['OCT', '  359', '  407', '  461']\n",
      "['NOV', '  310', '  362', '  390']\n",
      "['DEC', '  337', '  405', '  432']\n"
     ]
    }
   ],
   "source": [
    "import csv\n",
    "with open('airtravel.csv') as f:\n",
    "    reader = csv.reader(f)\n",
    "    next(reader)\n",
    "    for row in reader:\n",
    "        print(row)"
   ]
  },
  {
   "cell_type": "code",
   "execution_count": 40,
   "metadata": {},
   "outputs": [
    {
     "name": "stdout",
     "output_type": "stream",
     "text": [
      "Busiest Month in 1958: AUG, Flights: 505\n"
     ]
    }
   ],
   "source": [
    "import csv\n",
    "with open('airtravel.csv') as f:\n",
    "    reader = csv.reader(f)\n",
    "    next(reader)\n",
    "    year_1958 = dict()\n",
    "    for row in reader:\n",
    "        year_1958[row[0]] = row[1]\n",
    "    max_1958 = max(year_1958.values())  \n",
    "    for k, v in year_1958.items():\n",
    "        if max_1958 == v:\n",
    "            print(f\"Busiest Month in 1958: {k}, Flights: {v.strip()}\")\n"
   ]
  },
  {
   "attachments": {},
   "cell_type": "markdown",
   "metadata": {},
   "source": [
    "# Write to CSV file"
   ]
  },
  {
   "cell_type": "code",
   "execution_count": 52,
   "metadata": {},
   "outputs": [],
   "source": [
    "with open('people.csv', 'a', newline='') as f:\n",
    "    writer = csv.writer(f)\n",
    "    csv_data = (5, \"iman\", \"india\")\n",
    "    writer.writerow(csv_data)\n"
   ]
  },
  {
   "cell_type": "code",
   "execution_count": 54,
   "metadata": {},
   "outputs": [],
   "source": [
    "with open('numbers.csv', 'w', newline='') as f:\n",
    "    writer = csv.writer(f)\n",
    "    writer.writerow(['x', 'x**3', 'x**5'])\n",
    "    for x in range(1, 101):\n",
    "        writer.writerow([x, x**3, x**5])"
   ]
  },
  {
   "attachments": {},
   "cell_type": "markdown",
   "metadata": {},
   "source": [
    "# csv with another delimiters"
   ]
  },
  {
   "cell_type": "code",
   "execution_count": 55,
   "metadata": {},
   "outputs": [
    {
     "name": "stdout",
     "output_type": "stream",
     "text": [
      "['root', 'x', '0', '0', 'root', '/root', '/bin/bash']\n",
      "['daemon', 'x', '1', '1', 'daemon', '/usr/sbin', '/usr/sbin/nologin']\n",
      "['bin', 'x', '2', '2', 'bin', '/bin', '/usr/sbin/nologin']\n",
      "['sys', 'x', '3', '3', 'sys', '/dev', '/usr/sbin/nologin']\n",
      "['sync', 'x', '4', '65534', 'sync', '/bin', '/bin/sync']\n",
      "['games', 'x', '5', '60', 'games', '/usr/games', '/usr/sbin/nologin']\n",
      "['man', 'x', '6', '12', 'man', '/var/cache/man', '/usr/sbin/nologin']\n",
      "['lp', 'x', '7', '7', 'lp', '/var/spool/lpd', '/usr/sbin/nologin']\n",
      "['mail', 'x', '8', '8', 'mail', '/var/mail', '/usr/sbin/nologin']\n",
      "['news', 'x', '9', '9', 'news', '/var/spool/news', '/usr/sbin/nologin']\n",
      "['uucp', 'x', '10', '10', 'uucp', '/var/spool/uucp', '/usr/sbin/nologin']\n",
      "['proxy', 'x', '13', '13', 'proxy', '/bin', '/usr/sbin/nologin']\n",
      "['www-data', 'x', '33', '33', 'www-data', '/var/www', '/usr/sbin/nologin']\n",
      "['backup', 'x', '34', '34', 'backup', '/var/backups', '/usr/sbin/nologin']\n",
      "['list', 'x', '38', '38', 'Mailing List Manager', '/var/list', '/usr/sbin/nologin']\n",
      "['irc', 'x', '39', '39', 'ircd', '/var/run/ircd', '/usr/sbin/nologin']\n",
      "['gnats', 'x', '41', '41', 'Gnats Bug-Reporting System (admin)', '/var/lib/gnats', '/usr/sbin/nologin']\n",
      "['nobody', 'x', '65534', '65534', 'nobody', '/nonexistent', '/usr/sbin/nologin']\n",
      "['systemd-timesync', 'x', '100', '102', 'systemd Time Synchronization,,,', '/run/systemd', '/bin/false']\n",
      "['systemd-network', 'x', '101', '103', 'systemd Network Management,,,', '/run/systemd/netif', '/bin/false']\n",
      "['systemd-resolve', 'x', '102', '104', 'systemd Resolver,,,', '/run/systemd/resolve', '/bin/false']\n",
      "['systemd-bus-proxy', 'x', '103', '105', 'systemd Bus Proxy,,,', '/run/systemd', '/bin/false']\n",
      "['syslog', 'x', '104', '108', '', '/home/syslog', '/bin/false']\n",
      "['_apt', 'x', '105', '65534', '', '/nonexistent', '/bin/false']\n",
      "['messagebus', 'x', '106', '110', '', '/var/run/dbus', '/bin/false']\n",
      "['uuidd', 'x', '107', '111', '', '/run/uuidd', '/bin/false']\n",
      "['lightdm', 'x', '108', '114', 'Light Display Manager', '/var/lib/lightdm', '/bin/false']\n",
      "['ntp', 'x', '109', '116', '', '/home/ntp', '/bin/false']\n",
      "['avahi-autoipd', 'x', '110', '119', 'Avahi autoip daemon,,,', '/var/lib/avahi-autoipd', '/bin/false']\n",
      "['avahi', 'x', '111', '120', 'Avahi mDNS daemon,,,', '/var/run/avahi-daemon', '/bin/false']\n",
      "['colord', 'x', '112', '123', 'colord colour management daemon,,,', '/var/lib/colord', '/bin/false']\n",
      "['dnsmasq', 'x', '113', '65534', 'dnsmasq,,,', '/var/lib/misc', '/bin/false']\n",
      "['geoclue', 'x', '114', '124', '', '/var/lib/geoclue', '/bin/false']\n",
      "['speech-dispatcher', 'x', '115', '29', 'Speech Dispatcher,,,', '/var/run/speech-dispatcher', '/bin/false']\n",
      "['hplip', 'x', '116', '7', 'HPLIP system user,,,', '/var/run/hplip', '/bin/false']\n",
      "['kernoops', 'x', '117', '65534', 'Kernel Oops Tracking Daemon,,,', '/', '/bin/false']\n",
      "['pulse', 'x', '118', '125', 'PulseAudio daemon,,,', '/var/run/pulse', '/bin/false']\n",
      "['rtkit', 'x', '120', '128', 'RealtimeKit,,,', '/proc', '/bin/false']\n",
      "['saned', 'x', '121', '129', '', '/var/lib/saned', '/bin/false']\n",
      "['usbmux', 'x', '122', '46', 'usbmux daemon,,,', '/var/lib/usbmux', '/bin/false']\n",
      "['andrei', 'x', '1000', '1000', 'andrei,,,', '/home/andrei', '/bin/bash']\n",
      "['libvirt-qemu', 'x', '64055', '132', 'Libvirt Qemu,,,', '/var/lib/libvirt', '/bin/false']\n",
      "['libvirt-dnsmasq', 'x', '123', '134', 'Libvirt Dnsmasq,,,', '/var/lib/libvirt/dnsmasq', '/bin/false']\n",
      "['sshd', 'x', '124', '65534', '', '/var/run/sshd', '/usr/sbin/nologin']\n",
      "['mysql', 'x', '125', '136', 'MySQL Server,,,', '/nonexistent', '/bin/false']\n",
      "['statd', 'x', '126', '65534', '', '/var/lib/nfs', '/bin/false']\n",
      "['clamav', 'x', '127', '137', '', '/var/lib/clamav', '/bin/false']\n"
     ]
    }
   ],
   "source": [
    "with open('passwd.csv', 'r') as f:\n",
    "    reader = csv.reader(f, delimiter=':', lineterminator='\\n')\n",
    "    for row in reader:\n",
    "        print(row)"
   ]
  },
  {
   "cell_type": "code",
   "execution_count": 56,
   "metadata": {},
   "outputs": [
    {
     "name": "stdout",
     "output_type": "stream",
     "text": [
      "['excel', 'excel-tab', 'unix']\n"
     ]
    }
   ],
   "source": [
    "print(csv.list_dialects())"
   ]
  },
  {
   "attachments": {},
   "cell_type": "markdown",
   "metadata": {},
   "source": [
    "# example1"
   ]
  },
  {
   "cell_type": "code",
   "execution_count": 60,
   "metadata": {},
   "outputs": [
    {
     "name": "stdout",
     "output_type": "stream",
     "text": [
      "[['CoreDevice', '78.1.1.1', 'root', 'RPass67644@--'], ['CentralRouter', '8.1.1.1', 'myadmin', '67Jdhhdd-+'], ['AccessSwitch1', '78.1.2.2', 'admin', 'hPass67644@++'], ['Server1', '10.0.0.1', 'admin', 'xsdHD3355'], ['Router1', '90.0.0.1', 'u1', 'jpfajJdd67']]\n"
     ]
    }
   ],
   "source": [
    "with open('devices.txt', 'r') as f:\n",
    "    reader = csv.reader(f, delimiter=':', lineterminator='\\n')\n",
    "    li = list()\n",
    "    for row in reader:\n",
    "        li.append(row)\n",
    "    print(li)"
   ]
  }
 ],
 "metadata": {
  "kernelspec": {
   "display_name": "Python 3",
   "language": "python",
   "name": "python3"
  },
  "language_info": {
   "codemirror_mode": {
    "name": "ipython",
    "version": 3
   },
   "file_extension": ".py",
   "mimetype": "text/x-python",
   "name": "python",
   "nbconvert_exporter": "python",
   "pygments_lexer": "ipython3",
   "version": "3.10.11"
  },
  "orig_nbformat": 4
 },
 "nbformat": 4,
 "nbformat_minor": 2
}
