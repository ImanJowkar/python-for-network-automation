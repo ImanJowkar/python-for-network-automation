{
 "cells": [
  {
   "cell_type": "code",
   "execution_count": null,
   "metadata": {},
   "outputs": [],
   "source": [
    "from netmiko import Netmiko\n",
    "connection = Netmiko(host='10.10.1.1', port='22', username='iman', password='iman', device_type='cisco_ios')\n",
    "\n",
    "output = connection.send_command('sh ip protocols')\n",
    "print(output)\n",
    "connection.disconnect()\n",
    "\n"
   ]
  },
  {
   "cell_type": "code",
   "execution_count": null,
   "metadata": {},
   "outputs": [],
   "source": [
    "from netmiko import ConnectHandler\n",
    "cisco_device = {\n",
    "       'device_type': 'cisco_ios',     \n",
    "       'host': '10.10.1.1',\n",
    "       'username': 'iman2',\n",
    "       'password': 'iman2',\n",
    "       'port': 22,             \n",
    "       'secret': 'cisco',      # this is enable password\n",
    "       'verbose': True        \n",
    "       }\n",
    "\n",
    "\n",
    "\n",
    "connection = ConnectHandler(**cisco_device)\n",
    "prompt = connection.find_prompt()\n",
    "print(prompt)\n",
    "if '>' in prompt:\n",
    "    connection.enable()\n",
    "\n",
    "output = connection.send_command('sh run')\n",
    "print(output)\n",
    "\n",
    "\n",
    "if not connection.check_config_mode():\n",
    "    connection.config_mode()\n",
    "\n",
    "prompt = connection.find_prompt()\n",
    "print(prompt)\n",
    "\n",
    "connection.disconnect()\n",
    "\n",
    "\n"
   ]
  },
  {
   "cell_type": "markdown",
   "metadata": {},
   "source": [
    "## send multiple command"
   ]
  },
  {
   "cell_type": "code",
   "execution_count": null,
   "metadata": {},
   "outputs": [],
   "source": [
    "from netmiko import ConnectHandler\n",
    "cisco_device = {\n",
    "       'device_type': 'cisco_ios',     \n",
    "       'host': '10.10.1.1',\n",
    "       'username': 'iman2',\n",
    "       'password': 'iman2',\n",
    "       'port': 22,             \n",
    "       'secret': 'cisco',      # this is enable password\n",
    "       'verbose': True        \n",
    "       }\n",
    "\n",
    "\n",
    "\n",
    "connection = ConnectHandler(**cisco_device)\n",
    "prompt = connection.find_prompt()\n",
    "\n",
    "if '>' in prompt:\n",
    "    connection.enable()\n",
    "\n",
    "if not connection.check_config_mode():\n",
    "    connection.config_mode()\n",
    "\n",
    "# cmd = ['int gig 2/0', 'ip addr 10.10.57.1 255.255.255.0', 'no sh', 'exit', \n",
    "    #    'router ospf 1', 'router-id 1.1.1.1', 'network  10.10.57.1 0.0.0.0']\n",
    "\n",
    "\n",
    "cmd = ''' \n",
    "int gig 2/0\n",
    "ip addr 10.10.57.1 255.255.255.0\n",
    "no sh\n",
    "exit\n",
    "router ospf 1\n",
    "router-id 1.1.1.1\n",
    "network 10.10.57.1 0.0.0.0\n",
    "\n",
    "'''\n",
    "\n",
    "cmd = cmd.split('\\n')\n",
    "print(cmd)\n",
    "connection.send_config_set(cmd)\n",
    "\n",
    "connection.disconnect()\n",
    "\n",
    "\n"
   ]
  },
  {
   "cell_type": "markdown",
   "metadata": {},
   "source": [
    "## Read config from a file and send command to the router"
   ]
  },
  {
   "cell_type": "code",
   "execution_count": null,
   "metadata": {},
   "outputs": [],
   "source": [
    "from netmiko import ConnectHandler\n",
    "cisco_device = {\n",
    "       'device_type': 'cisco_ios',     \n",
    "       'host': '10.10.1.1',\n",
    "       'username': 'iman2',\n",
    "       'password': 'iman2',\n",
    "       'port': 22,             \n",
    "       'secret': 'cisco',      # this is enable password\n",
    "       'verbose': True        \n",
    "       }\n",
    "\n",
    "\n",
    "\n",
    "connection = ConnectHandler(**cisco_device)\n",
    "prompt = connection.find_prompt()\n",
    "\n",
    "if '>' in prompt:\n",
    "    connection.enable()\n",
    "\n",
    "if not connection.check_config_mode():\n",
    "    connection.config_mode()\n",
    "\n",
    "\n",
    "\n",
    "\n",
    "print(connection.send_config_from_file('./cmd'))\n",
    "\n",
    "connection.disconnect()\n",
    "\n",
    "\n"
   ]
  }
 ],
 "metadata": {
  "kernelspec": {
   "display_name": "Python 3",
   "language": "python",
   "name": "python3"
  },
  "language_info": {
   "codemirror_mode": {
    "name": "ipython",
    "version": 3
   },
   "file_extension": ".py",
   "mimetype": "text/x-python",
   "name": "python",
   "nbconvert_exporter": "python",
   "pygments_lexer": "ipython3",
   "version": "3.11.5"
  }
 },
 "nbformat": 4,
 "nbformat_minor": 2
}
