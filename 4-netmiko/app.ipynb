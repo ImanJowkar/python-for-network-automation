{
 "cells": [
  {
   "cell_type": "markdown",
   "metadata": {},
   "source": [
    "## basic"
   ]
  },
  {
   "cell_type": "code",
   "execution_count": 1,
   "metadata": {},
   "outputs": [
    {
     "name": "stdout",
     "output_type": "stream",
     "text": [
      "*** IP Routing is NSF aware ***\n",
      "\n",
      "Routing Protocol is \"eigrp 8\"\n",
      "  Outgoing update filter list for all interfaces is not set\n",
      "  Incoming update filter list for all interfaces is not set\n",
      "  Default networks flagged in outgoing updates\n",
      "  Default networks accepted from incoming updates\n",
      "  EIGRP-IPv4 VR(my-eig-1) Address-Family Protocol for AS(8)\n",
      "    Metric weight K1=1, K2=0, K3=1, K4=0, K5=0 K6=0\n",
      "    Metric rib-scale 128\n",
      "    Metric version 64bit\n",
      "    NSF-aware route hold timer is 240\n",
      "    Router-ID: 10.10.1.1\n",
      "    Topology : 0 (base) \n",
      "      Active Timer: 3 min\n",
      "      Distance: internal 90 external 170\n",
      "      Maximum path: 4\n",
      "      Maximum hopcount 100\n",
      "      Maximum metric variance 1\n",
      "      Total Prefix Count: 1\n",
      "      Total Redist Count: 0\n",
      "\n",
      "  Automatic Summarization: disabled\n",
      "  Maximum path: 4\n",
      "  Routing for Networks:\n",
      "    10.10.1.1/32\n",
      "    10.10.57.1/32\n",
      "    10.50.20.1/32\n",
      "  Passive Interface(s):\n",
      "    FastEthernet1/0\n",
      "  Routing Information Sources:\n",
      "    Gateway         Distance      Last Update\n",
      "  Distance: internal 90 external 170\n",
      "\n",
      "Routing Protocol is \"ospf 1\"\n",
      "  Outgoing update filter list for all interfaces is not set\n",
      "  Incoming update filter list for all interfaces is not set\n",
      "  Router ID 1.1.1.1\n",
      "  Number of areas in this router is 0. 0 normal 0 stub 0 nssa\n",
      "  Maximum path: 4\n",
      "  Routing for Networks:\n",
      "  Routing Information Sources:\n",
      "    Gateway         Distance      Last Update\n",
      "  Distance: (default is 110)\n",
      "\n"
     ]
    }
   ],
   "source": [
    "from netmiko import Netmiko\n",
    "connection = Netmiko(host='10.10.1.1', port='22', username='iman', password='iman', device_type='cisco_ios')\n",
    "\n",
    "output = connection.send_command('sh ip protocols')\n",
    "print(output)\n",
    "connection.disconnect()\n",
    "\n"
   ]
  },
  {
   "cell_type": "code",
   "execution_count": null,
   "metadata": {},
   "outputs": [],
   "source": [
    "from netmiko import ConnectHandler\n",
    "cisco_device = {\n",
    "       'device_type': 'cisco_ios',     \n",
    "       'host': '10.10.1.1',\n",
    "       'username': 'iman2',\n",
    "       'password': 'iman2',\n",
    "       'port': 22,             \n",
    "       'secret': 'iman2',      # this is enable password\n",
    "       'verbose': True        \n",
    "       }\n",
    "\n",
    "\n",
    "\n",
    "connection = ConnectHandler(**cisco_device)\n",
    "prompt = connection.find_prompt()\n",
    "print(prompt)\n",
    "if '>' in prompt:\n",
    "    connection.enable()\n",
    "\n",
    "output = connection.send_command('sh run')\n",
    "print(output)\n",
    "\n",
    "\n",
    "if not connection.check_config_mode():\n",
    "    connection.config_mode()\n",
    "\n",
    "prompt = connection.find_prompt()\n",
    "print(prompt)\n",
    "\n",
    "connection.disconnect()\n",
    "\n",
    "\n"
   ]
  },
  {
   "cell_type": "markdown",
   "metadata": {},
   "source": [
    "## connect to mikrotik device"
   ]
  },
  {
   "cell_type": "code",
   "execution_count": null,
   "metadata": {},
   "outputs": [],
   "source": [
    "from netmiko import ConnectHandler\n",
    "mikrotik = {\n",
    "    'device_type': 'mikrotik_routeros',\n",
    "    'host':   '10.10.1.3',\n",
    "    'username': 'admin',\n",
    "#     'use_keys': True,\n",
    "#     'key_file': '/Users/laptop/.ssh/id_rsa',\n",
    "    'password': 'admin',\n",
    "    'port' : 22          # optional, defaults to 22\n",
    "    #'secret': 'secret',     # optional, defaults to ''\n",
    "\n",
    "}\n",
    "mikrotik_connect=ConnectHandler(**mikrotik)\n",
    "backup = mikrotik_connect.send_command('export',cmd_verify=False)\n",
    "with open('backup.rsc', '+a') as f:\n",
    "    f.write(backup)\n",
    "\n"
   ]
  },
  {
   "cell_type": "markdown",
   "metadata": {},
   "source": [
    "## send multiple command"
   ]
  },
  {
   "cell_type": "code",
   "execution_count": null,
   "metadata": {},
   "outputs": [],
   "source": [
    "from netmiko import ConnectHandler\n",
    "cisco_device = {\n",
    "       'device_type': 'cisco_ios',     \n",
    "       'host': '10.10.1.1',\n",
    "       'username': 'iman2',\n",
    "       'password': 'iman2',\n",
    "       'port': 22,             \n",
    "       'secret': 'Admin@123',      # this is enable password\n",
    "       'verbose': True        \n",
    "       }\n",
    "\n",
    "\n",
    "\n",
    "connection = ConnectHandler(**cisco_device)\n",
    "prompt = connection.find_prompt()\n",
    "\n",
    "if '>' in prompt:\n",
    "    connection.enable()\n",
    "\n",
    "if not connection.check_config_mode():\n",
    "    connection.config_mode()\n",
    "\n",
    "# cmd = ['int gig 2/0', 'ip addr 10.10.57.1 255.255.255.0', 'no sh', 'exit', \n",
    "    #    'router ospf 1', 'router-id 1.1.1.1', 'network  10.10.57.1 0.0.0.0']\n",
    "\n",
    "\n",
    "cmd = ''' \n",
    "int gig 2/0\n",
    "ip addr 10.10.57.1 255.255.255.0\n",
    "no sh\n",
    "exit\n",
    "router ospf 1\n",
    "router-id 1.1.1.1\n",
    "network 10.10.57.1 0.0.0.0\n",
    "\n",
    "'''\n",
    "\n",
    "cmd = cmd.split('\\n')\n",
    "print(cmd)\n",
    "output = connection.send_config_set(cmd)\n",
    "print(output)\n",
    "connection.disconnect()\n",
    "\n",
    "\n"
   ]
  },
  {
   "cell_type": "markdown",
   "metadata": {},
   "source": [
    "## Read config from a file and send command to the router"
   ]
  },
  {
   "cell_type": "code",
   "execution_count": null,
   "metadata": {},
   "outputs": [],
   "source": [
    "from netmiko import ConnectHandler\n",
    "cisco_device = {\n",
    "       'device_type': 'cisco_ios',     \n",
    "       'host': '10.10.1.5',\n",
    "       'username': 'iman',\n",
    "       'password': 'iman',\n",
    "       'port': 22,             \n",
    "       'secret': 'cisco',      # this is enable password\n",
    "       'verbose': True        \n",
    "       }\n",
    "\n",
    "\n",
    "\n",
    "connection = ConnectHandler(**cisco_device)\n",
    "prompt = connection.find_prompt()\n",
    "\n",
    "if '>' in prompt:\n",
    "    connection.enable()\n",
    "\n",
    "if not connection.check_config_mode():\n",
    "    connection.config_mode()\n",
    "\n",
    "\n",
    "\n",
    "\n",
    "print(connection.send_config_from_file('./cmd'))\n",
    "\n",
    "connection.disconnect()\n",
    "\n",
    "\n"
   ]
  }
 ],
 "metadata": {
  "kernelspec": {
   "display_name": "Python 3",
   "language": "python",
   "name": "python3"
  },
  "language_info": {
   "codemirror_mode": {
    "name": "ipython",
    "version": 3
   },
   "file_extension": ".py",
   "mimetype": "text/x-python",
   "name": "python",
   "nbconvert_exporter": "python",
   "pygments_lexer": "ipython3",
   "version": "3.11.5"
  }
 },
 "nbformat": 4,
 "nbformat_minor": 2
}
