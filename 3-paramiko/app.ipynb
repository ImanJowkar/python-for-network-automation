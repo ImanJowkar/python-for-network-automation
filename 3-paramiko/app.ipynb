{
 "cells": [
  {
   "attachments": {},
   "cell_type": "markdown",
   "metadata": {},
   "source": [
    "# Introduction to paramiko"
   ]
  },
  {
   "cell_type": "code",
   "execution_count": 24,
   "metadata": {},
   "outputs": [
    {
     "name": "stdout",
     "output_type": "stream",
     "text": [
      "True\n"
     ]
    }
   ],
   "source": [
    "# pip install paramiko\n",
    "import paramiko\n",
    "import time\n",
    "import getpass\n",
    "ssh_client = paramiko.SSHClient()\n",
    "ssh_client.set_missing_host_key_policy(paramiko.AutoAddPolicy())\n",
    "ssh_client.connect(hostname='192.168.233.100', port='22', username='iman',\n",
    "                   password='iman', look_for_keys=False, allow_agent=False)\n",
    "\n",
    "print(ssh_client.get_transport().is_active())\n",
    "ssh_client.close()"
   ]
  },
  {
   "cell_type": "code",
   "execution_count": 14,
   "metadata": {},
   "outputs": [
    {
     "name": "stdout",
     "output_type": "stream",
     "text": [
      "Closing the connection\n"
     ]
    }
   ],
   "source": [
    "# pip install paramiko\n",
    "import paramiko\n",
    "ssh_client = paramiko.SSHClient()\n",
    "ssh_client.set_missing_host_key_policy(paramiko.AutoAddPolicy())\n",
    "ssh_client.connect(hostname='192.168.233.100', port='22', username='iman',\n",
    "                   password='iman', look_for_keys=False, allow_agent=False)\n",
    "\n",
    "\n",
    "if ssh_client.get_transport().is_active() == True:\n",
    "    print('Closing the connection')\n",
    "    ssh_client.close()"
   ]
  },
  {
   "cell_type": "code",
   "execution_count": 13,
   "metadata": {},
   "outputs": [
    {
     "name": "stdout",
     "output_type": "stream",
     "text": [
      "Closing the connection\n"
     ]
    }
   ],
   "source": [
    "ssh_client = paramiko.SSHClient()\n",
    "router = {'hostname': '192.168.233.100', 'port': '22', 'username': 'iman', 'password':'iman'}\n",
    "ssh_client.set_missing_host_key_policy(paramiko.AutoAddPolicy())\n",
    "ssh_client.connect(**router, look_for_keys=False, allow_agent=False)\n",
    "if ssh_client.get_transport().is_active() == True:\n",
    "    print('Closing the connection')\n",
    "    ssh_client.close()"
   ]
  },
  {
   "attachments": {},
   "cell_type": "markdown",
   "metadata": {},
   "source": [
    "### How to send command with ssh to router"
   ]
  },
  {
   "cell_type": "code",
   "execution_count": 23,
   "metadata": {},
   "outputs": [
    {
     "name": "stdout",
     "output_type": "stream",
     "text": [
      "\n",
      "router1>terminal length 0\n",
      "router1>show ip int brief\n",
      "Interface                  IP-Address      OK? Method Status                Protocol\n",
      "FastEthernet0/0            192.168.233.100 YES manual up                    up      \n",
      "FastEthernet2/0            unassigned      YES unset  administratively down down    \n",
      "FastEthernet3/0            unassigned      YES unset  administratively down down    \n",
      "FastEthernet3/1            unassigned      YES unset  administratively down down    \n",
      "GigabitEthernet4/0         unassigned      YES unset  administratively down down    \n",
      "Serial5/0                  unassigned      YES unset  administratively down down    \n",
      "Serial5/1                  unassigned      YES unset  administratively down down    \n",
      "Serial5/2                  unassigned      YES unset  administratively down down    \n",
      "Serial5/3                  unassigned      YES unset  administratively down down    \n",
      "Serial6/0                  unassigned      YES unset  administratively down down    \n",
      "Serial6/1                  unassigned      YES unset  administratively down down    \n",
      "Serial6/2                  unassigned      YES unset  administratively down down    \n",
      "Serial6/3                  unassigned      YES unset  administratively down down    \n",
      "Serial6/4                  unassigned      YES unset  administratively down down    \n",
      "Serial6/5                  unassigned      YES unset  administratively down down    \n",
      "Serial6/6                  unassigned      YES unset  administratively down down    \n",
      "Serial6/7                  unassigned      YES unset  administratively down down    \n",
      "router1>\n",
      "Closing the connection\n"
     ]
    }
   ],
   "source": [
    "ssh_client = paramiko.SSHClient()\n",
    "router = {'hostname': '192.168.233.100', 'port': '22', 'username': 'iman', 'password':'iman'}\n",
    "ssh_client.set_missing_host_key_policy(paramiko.AutoAddPolicy())\n",
    "ssh_client.connect(**router, look_for_keys=False, allow_agent=False)\n",
    "\n",
    "shell = ssh_client.invoke_shell()\n",
    "shell.send('terminal length 0\\n')\n",
    "# shell.send('show version\\n')\n",
    "shell.send('show ip int brief\\n')\n",
    "time.sleep(1)\n",
    "\n",
    "output = shell.recv(10000)\n",
    "output = output.decode('utf-8')\n",
    "print(output)\n",
    "\n",
    "if ssh_client.get_transport().is_active() == True:\n",
    "    print('Closing the connection')\n",
    "    ssh_client.close()"
   ]
  },
  {
   "attachments": {},
   "cell_type": "markdown",
   "metadata": {},
   "source": [
    "### How to secure password with getpass"
   ]
  },
  {
   "cell_type": "code",
   "execution_count": 25,
   "metadata": {},
   "outputs": [
    {
     "name": "stdout",
     "output_type": "stream",
     "text": [
      "\n",
      "router1>terminal length 0\n",
      "router1>show ip int brief\n",
      "Interface                  IP-Address      OK? Method Status                Protocol\n",
      "FastEthernet0/0            192.168.233.100 YES manual up                    up      \n",
      "FastEthernet2/0            unassigned      YES unset  administratively down down    \n",
      "FastEthernet3/0            unassigned      YES unset  administratively down down    \n",
      "FastEthernet3/1            unassigned      YES unset  administratively down down    \n",
      "GigabitEthernet4/0         unassigned      YES unset  administratively down down    \n",
      "Serial5/0                  unassigned      YES unset  administratively down down    \n",
      "Serial5/1                  unassigned      YES unset  administratively down down    \n",
      "Serial5/2                  unassigned      YES unset  administratively down down    \n",
      "Serial5/3                  unassigned      YES unset  administratively down down    \n",
      "Serial6/0                  unassigned      YES unset  administratively down down    \n",
      "Serial6/1                  unassigned      YES unset  administratively down down    \n",
      "Serial6/2                  unassigned      YES unset  administratively down down    \n",
      "Serial6/3                  unassigned      YES unset  administratively down down    \n",
      "Serial6/4                  unassigned      YES unset  administratively down down    \n",
      "Serial6/5                  unassigned      YES unset  administratively down down    \n",
      "Serial6/6                  unassigned      YES unset  administratively down down    \n",
      "Serial6/7                  unassigned      YES unset  administratively down down    \n",
      "router1>\n",
      "Closing the connection\n"
     ]
    }
   ],
   "source": [
    "ssh_client = paramiko.SSHClient()\n",
    "ssh_client.set_missing_host_key_policy(paramiko.AutoAddPolicy())\n",
    "password = getpass.getpass(\"Please Enter password: \")\n",
    "router = {'hostname': '192.168.233.100', 'port': '22', 'username': 'iman', 'password': password}\n",
    "\n",
    "ssh_client.connect(**router, look_for_keys=False, allow_agent=False)\n",
    "\n",
    "shell = ssh_client.invoke_shell()\n",
    "shell.send('terminal length 0\\n')\n",
    "# shell.send('show version\\n')\n",
    "shell.send('show ip int brief\\n')\n",
    "time.sleep(1)\n",
    "\n",
    "output = shell.recv(10000)\n",
    "output = output.decode('utf-8')\n",
    "print(output)\n",
    "\n",
    "if ssh_client.get_transport().is_active() == True:\n",
    "    print('Closing the connection')\n",
    "    ssh_client.close()"
   ]
  },
  {
   "cell_type": "code",
   "execution_count": null,
   "metadata": {},
   "outputs": [],
   "source": []
  }
 ],
 "metadata": {
  "kernelspec": {
   "display_name": "Python 3",
   "language": "python",
   "name": "python3"
  },
  "language_info": {
   "codemirror_mode": {
    "name": "ipython",
    "version": 3
   },
   "file_extension": ".py",
   "mimetype": "text/x-python",
   "name": "python",
   "nbconvert_exporter": "python",
   "pygments_lexer": "ipython3",
   "version": "3.10.11"
  },
  "orig_nbformat": 4
 },
 "nbformat": 4,
 "nbformat_minor": 2
}
