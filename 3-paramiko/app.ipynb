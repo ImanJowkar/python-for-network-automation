{
 "cells": [
  {
   "attachments": {},
   "cell_type": "markdown",
   "metadata": {},
   "source": [
    "# Introduction to paramiko"
   ]
  },
  {
   "cell_type": "code",
   "execution_count": 2,
   "metadata": {},
   "outputs": [
    {
     "name": "stdout",
     "output_type": "stream",
     "text": [
      "True\n"
     ]
    }
   ],
   "source": [
    "# pip install paramiko\n",
    "import paramiko\n",
    "ssh_client = paramiko.SSHClient()\n",
    "ssh_client.set_missing_host_key_policy(paramiko.AutoAddPolicy()) # accept host-key checking.\n",
    "\n",
    "ssh_client.connect(hostname='10.10.10.163', port='22', username='iman',\n",
    "                   password='iman', look_for_keys=False, allow_agent=False)\n",
    "\n",
    "print(ssh_client.get_transport().is_active())\n",
    "ssh_client.close()"
   ]
  },
  {
   "cell_type": "code",
   "execution_count": 14,
   "metadata": {},
   "outputs": [
    {
     "name": "stdout",
     "output_type": "stream",
     "text": [
      "Closing the connection\n"
     ]
    }
   ],
   "source": [
    "# pip install paramiko\n",
    "import paramiko\n",
    "ssh_client = paramiko.SSHClient()\n",
    "ssh_client.set_missing_host_key_policy(paramiko.AutoAddPolicy())\n",
    "ssh_client.connect(hostname='10.10.233.100', port='22', username='iman',\n",
    "                   password='iman', look_for_keys=False, allow_agent=False)\n",
    "\n",
    "\n",
    "if ssh_client.get_transport().is_active() == True:\n",
    "    print('Closing the connection')\n",
    "    ssh_client.close()"
   ]
  },
  {
   "cell_type": "code",
   "execution_count": 13,
   "metadata": {},
   "outputs": [
    {
     "name": "stdout",
     "output_type": "stream",
     "text": [
      "Closing the connection\n"
     ]
    }
   ],
   "source": [
    "import paramiko\n",
    "ssh_client = paramiko.SSHClient()\n",
    "router = {'hostname': '10.20.30.1', 'port': '22', 'username': 'iman', 'password':'iman'}\n",
    "ssh_client.set_missing_host_key_policy(paramiko.AutoAddPolicy())\n",
    "ssh_client.connect(**router, look_for_keys=False, allow_agent=False)\n",
    "if ssh_client.get_transport().is_active() == True:\n",
    "    print('Closing the connection')\n",
    "    ssh_client.close()"
   ]
  },
  {
   "attachments": {},
   "cell_type": "markdown",
   "metadata": {},
   "source": [
    "### How to send command with ssh to router"
   ]
  },
  {
   "cell_type": "code",
   "execution_count": 23,
   "metadata": {},
   "outputs": [
    {
     "name": "stdout",
     "output_type": "stream",
     "text": [
      "\n",
      "router1>terminal length 0\n",
      "router1>show ip int brief\n",
      "Interface                  IP-Address      OK? Method Status                Protocol\n",
      "FastEthernet0/0            192.168.233.100 YES manual up                    up      \n",
      "FastEthernet2/0            unassigned      YES unset  administratively down down    \n",
      "FastEthernet3/0            unassigned      YES unset  administratively down down    \n",
      "FastEthernet3/1            unassigned      YES unset  administratively down down    \n",
      "GigabitEthernet4/0         unassigned      YES unset  administratively down down    \n",
      "Serial5/0                  unassigned      YES unset  administratively down down    \n",
      "Serial5/1                  unassigned      YES unset  administratively down down    \n",
      "Serial5/2                  unassigned      YES unset  administratively down down    \n",
      "Serial5/3                  unassigned      YES unset  administratively down down    \n",
      "Serial6/0                  unassigned      YES unset  administratively down down    \n",
      "Serial6/1                  unassigned      YES unset  administratively down down    \n",
      "Serial6/2                  unassigned      YES unset  administratively down down    \n",
      "Serial6/3                  unassigned      YES unset  administratively down down    \n",
      "Serial6/4                  unassigned      YES unset  administratively down down    \n",
      "Serial6/5                  unassigned      YES unset  administratively down down    \n",
      "Serial6/6                  unassigned      YES unset  administratively down down    \n",
      "Serial6/7                  unassigned      YES unset  administratively down down    \n",
      "router1>\n",
      "Closing the connection\n"
     ]
    }
   ],
   "source": [
    "import paramiko\n",
    "import time\n",
    "ssh_client = paramiko.SSHClient()\n",
    "router = {'hostname': '10.20.30.1', 'port': '22', 'username': 'iman', 'password':'iman'}\n",
    "ssh_client.set_missing_host_key_policy(paramiko.AutoAddPolicy())\n",
    "ssh_client.connect(**router, look_for_keys=False, allow_agent=False)\n",
    "\n",
    "shell = ssh_client.invoke_shell()\n",
    "shell.send('terminal length 0\\n')\n",
    "# shell.send('show version\\n')\n",
    "shell.send('show ip int brief\\n')\n",
    "time.sleep(2)\n",
    "\n",
    "output = shell.recv(10000)\n",
    "output = output.decode('utf-8')\n",
    "print(output)\n",
    "\n",
    "if ssh_client.get_transport().is_active() == True:\n",
    "    print('Closing the connection')\n",
    "    ssh_client.close()"
   ]
  },
  {
   "cell_type": "code",
   "execution_count": null,
   "metadata": {},
   "outputs": [],
   "source": [
    " python app.py | awk '{print $1}'"
   ]
  },
  {
   "attachments": {},
   "cell_type": "markdown",
   "metadata": {},
   "source": [
    "### How to secure password with getpass"
   ]
  },
  {
   "cell_type": "code",
   "execution_count": 25,
   "metadata": {},
   "outputs": [
    {
     "name": "stdout",
     "output_type": "stream",
     "text": [
      "\n",
      "router1>terminal length 0\n",
      "router1>show ip int brief\n",
      "Interface                  IP-Address      OK? Method Status                Protocol\n",
      "FastEthernet0/0            192.168.233.100 YES manual up                    up      \n",
      "FastEthernet2/0            unassigned      YES unset  administratively down down    \n",
      "FastEthernet3/0            unassigned      YES unset  administratively down down    \n",
      "FastEthernet3/1            unassigned      YES unset  administratively down down    \n",
      "GigabitEthernet4/0         unassigned      YES unset  administratively down down    \n",
      "Serial5/0                  unassigned      YES unset  administratively down down    \n",
      "Serial5/1                  unassigned      YES unset  administratively down down    \n",
      "Serial5/2                  unassigned      YES unset  administratively down down    \n",
      "Serial5/3                  unassigned      YES unset  administratively down down    \n",
      "Serial6/0                  unassigned      YES unset  administratively down down    \n",
      "Serial6/1                  unassigned      YES unset  administratively down down    \n",
      "Serial6/2                  unassigned      YES unset  administratively down down    \n",
      "Serial6/3                  unassigned      YES unset  administratively down down    \n",
      "Serial6/4                  unassigned      YES unset  administratively down down    \n",
      "Serial6/5                  unassigned      YES unset  administratively down down    \n",
      "Serial6/6                  unassigned      YES unset  administratively down down    \n",
      "Serial6/7                  unassigned      YES unset  administratively down down    \n",
      "router1>\n",
      "Closing the connection\n"
     ]
    }
   ],
   "source": [
    "import paramiko\n",
    "import time\n",
    "import getpass\n",
    "ssh_client = paramiko.SSHClient()\n",
    "ssh_client.set_missing_host_key_policy(paramiko.AutoAddPolicy())\n",
    "password = getpass.getpass(\"Please Enter password: \")\n",
    "router = {'hostname': '192.168.233.100', 'port': '22', 'username': 'iman', 'password': password}\n",
    "\n",
    "ssh_client.connect(**router, look_for_keys=False, allow_agent=False)\n",
    "\n",
    "shell = ssh_client.invoke_shell()\n",
    "shell.send('terminal length 0\\n')\n",
    "# shell.send('show version\\n')\n",
    "shell.send('show ip int brief\\n')\n",
    "time.sleep(2)\n",
    "\n",
    "output = shell.recv(10000)\n",
    "output = output.decode('utf-8')\n",
    "print(output)\n",
    "\n",
    "if ssh_client.get_transport().is_active() == True:\n",
    "    print('Closing the connection')\n",
    "    ssh_client.close()"
   ]
  },
  {
   "cell_type": "markdown",
   "metadata": {},
   "source": [
    "## configure ospf"
   ]
  },
  {
   "cell_type": "code",
   "execution_count": null,
   "metadata": {},
   "outputs": [],
   "source": [
    "import paramiko\n",
    "import time\n",
    "import getpass\n",
    "ssh_client = paramiko.SSHClient()\n",
    "ssh_client.set_missing_host_key_policy(paramiko.AutoAddPolicy())\n",
    "password = getpass.getpass(\"Please Enter password: \")\n",
    "router = {'hostname': '10.20.30.1', 'port': '22', 'username': 'iman', 'password': password}\n",
    "\n",
    "ssh_client.connect(**router, look_for_keys=False, allow_agent=False)\n",
    "\n",
    "shell = ssh_client.invoke_shell()\n",
    "shell.send('terminal length 0\\n')\n",
    "# shell.send('show version\\n')\n",
    "\n",
    "\n",
    "shell.send('conf t \\n')\n",
    "shell.send('int gig 2/0 \\n')\n",
    "shell.send('ip address 2.2.2.1 255.255.255.252 \\n')\n",
    "shell.send('no sh \\n')\n",
    "\n",
    "shell.send('do sh ip int bri \\n')\n",
    "\n",
    "\n",
    "# Configure ospf\n",
    "\n",
    "shell.send('router ospf 1 \\n')\n",
    "shell.send('network 2.2.2.1 0.0.0.0 area 0 \\n')\n",
    "shell.send('passive-interface fa 1/0 \\n')\n",
    "shell.send('do sh ip protocols\\n')\n",
    "\n",
    "time.sleep(2)\n",
    "\n",
    "output = shell.recv(10000)\n",
    "output = output.decode('utf-8')\n",
    "print(output)\n",
    "\n",
    "if ssh_client.get_transport().is_active() == True:\n",
    "    print('Closing the connection')\n",
    "    ssh_client.close()"
   ]
  },
  {
   "cell_type": "markdown",
   "metadata": {},
   "source": [
    "# in cases you have multiple router"
   ]
  },
  {
   "cell_type": "code",
   "execution_count": null,
   "metadata": {},
   "outputs": [],
   "source": [
    "import paramiko\n",
    "import time\n",
    "import getpass\n",
    "ssh_client = paramiko.SSHClient()\n",
    "ssh_client.set_missing_host_key_policy(paramiko.AutoAddPolicy())\n",
    "password = getpass.getpass(\"Please Enter password: \")\n",
    "\n",
    "router1 = {'hostname': '10.20.30.1', 'port': '22', 'username': 'iman', 'password': password}\n",
    "router2 = {'hostname': '10.20.30.2', 'port': '22', 'username': 'iman', 'password': password}\n",
    "router3 = {'hostname': '10.20.30.3', 'port': '22', 'username': 'iman', 'password': password}\n",
    "routers = [router1, router2, router3]\n",
    "\n",
    "for router in routers:\n",
    "    ssh_client.connect(**router, look_for_keys=False, allow_agent=False)\n",
    "\n",
    "    shell = ssh_client.invoke_shell()\n",
    "    shell.send('terminal length 0\\n')\n",
    "    # shell.send('show version\\n')\n",
    "\n",
    "    shell.send('enable\\n')\n",
    "    shell.send('password\\n')\n",
    "\n",
    "    shell.send('conf t \\n')\n",
    "    \n",
    "    shell.send('int gig 2/0 \\n')\n",
    "    shell.send('ip address 2.2.2.1 255.255.255.252 \\n')\n",
    "    shell.send('no sh \\n')\n",
    "\n",
    "    shell.send('do sh ip int bri \\n')\n",
    "    time.sleep(1)\n",
    "\n",
    "    # Configure ospf\n",
    "\n",
    "    shell.send('router ospf 1 \\n')\n",
    "    shell.send('network 2.2.2.1 0.0.0.0 area 0 \\n')\n",
    "    shell.send('passive-interface fa 1/0 \\n')\n",
    "    shell.send('do sh ip protocols\\n')\n",
    "\n",
    "    time.sleep(1)\n",
    "\n",
    "    output = shell.recv(10000)\n",
    "    output = output.decode('utf-8')\n",
    "    print(output)\n",
    "\n",
    "    if ssh_client.get_transport().is_active() == True:\n",
    "        print('Closing the connection')\n",
    "        ssh_client.close()"
   ]
  },
  {
   "cell_type": "markdown",
   "metadata": {},
   "source": [
    "# execute command on linux"
   ]
  },
  {
   "cell_type": "code",
   "execution_count": 1,
   "metadata": {},
   "outputs": [
    {
     "name": "stdout",
     "output_type": "stream",
     "text": [
      "enp0s8: flags=4163<UP,BROADCAST,RUNNING,MULTICAST>  mtu 1500\n",
      "        inet 192.168.56.200  netmask 255.255.255.0  broadcast 192.168.56.255\n",
      "        inet6 fe80::a00:27ff:fecc:3390  prefixlen 64  scopeid 0x20<link>\n",
      "        ether 08:00:27:cc:33:90  txqueuelen 1000  (Ethernet)\n",
      "        RX packets 50  bytes 6268 (6.1 KiB)\n",
      "        RX errors 0  dropped 0  overruns 0  frame 0\n",
      "        TX packets 49  bytes 6278 (6.1 KiB)\n",
      "        TX errors 0  dropped 0 overruns 0  carrier 0  collisions 0\n",
      "\n",
      "lo: flags=73<UP,LOOPBACK,RUNNING>  mtu 65536\n",
      "        inet 127.0.0.1  netmask 255.0.0.0\n",
      "        inet6 ::1  prefixlen 128  scopeid 0x10<host>\n",
      "        loop  txqueuelen 1000  (Local Loopback)\n",
      "        RX packets 0  bytes 0 (0.0 B)\n",
      "        RX errors 0  dropped 0  overruns 0  frame 0\n",
      "        TX packets 0  bytes 0 (0.0 B)\n",
      "        TX errors 0  dropped 0 overruns 0  carrier 0  collisions 0\n",
      "\n",
      "\n",
      "Closing the connection\n"
     ]
    }
   ],
   "source": [
    "import paramiko\n",
    "import time\n",
    "import getpass\n",
    "ssh_client = paramiko.SSHClient()\n",
    "ssh_client.set_missing_host_key_policy(paramiko.AutoAddPolicy())\n",
    "password = getpass.getpass(\"Please Enter password: \")\n",
    "\n",
    "host1 = {'hostname': '10.20.30.2', 'port': '22', 'username': 'ubuntu', 'password': password}\n",
    "ssh_client.connect(**host1, look_for_keys=False, allow_agent=False)\n",
    "\n",
    "\n",
    "stdin, stdout, stderr = ssh_client.exec_command('ifconfig \\n')\n",
    "time.sleep(1)\n",
    "\n",
    "output = stdout.read()\n",
    "output = output.decode('utf-8')\n",
    "print(output)\n",
    "\n",
    "if ssh_client.get_transport().is_active() == True:\n",
    "    print('Closing the connection')\n",
    "    ssh_client.close()"
   ]
  },
  {
   "cell_type": "markdown",
   "metadata": {},
   "source": [
    "## Run sudo command"
   ]
  },
  {
   "cell_type": "code",
   "execution_count": null,
   "metadata": {},
   "outputs": [],
   "source": [
    "import paramiko\n",
    "import time\n",
    "import getpass\n",
    "ssh_client = paramiko.SSHClient()\n",
    "ssh_client.set_missing_host_key_policy(paramiko.AutoAddPolicy())\n",
    "password = getpass.getpass(\"Please Enter password: \")\n",
    "\n",
    "host1 = {'hostname': '10.20.30.2', 'port': '22', 'username': 'ubuntu', 'password': password}\n",
    "\n",
    "ssh_client.connect(**host1, look_for_keys=False, allow_agent=False)\n",
    "\n",
    "\n",
    "stdin, stdout, stderr = ssh_client.exec_command('sudo cat /etc/shadow \\n', get_pty=True)\n",
    "stdin.write('ubuntu')\n",
    "\n",
    "time.sleep(1)\n",
    "\n",
    "stdin, stdout, stderr = ssh_client.exec_command('sudo useradd user2 \\n', get_pty=True)\n",
    "stdin.write('ubuntu')\n",
    "\n",
    "time.sleep(1)\n",
    "\n",
    "\n",
    "stdin, stdout, stderr = ssh_client.exec_command('cat /etc/passwd \\n', get_pty=True)\n",
    "\n",
    "time.sleep(1)\n",
    "\n",
    "\n",
    "output = stdout.read()\n",
    "output = output.decode('utf-8')\n",
    "print(output)\n",
    "\n",
    "if ssh_client.get_transport().is_active() == True:\n",
    "    print('Closing the connection')\n",
    "    ssh_client.close()"
   ]
  }
 ],
 "metadata": {
  "kernelspec": {
   "display_name": "Python 3",
   "language": "python",
   "name": "python3"
  },
  "language_info": {
   "codemirror_mode": {
    "name": "ipython",
    "version": 3
   },
   "file_extension": ".py",
   "mimetype": "text/x-python",
   "name": "python",
   "nbconvert_exporter": "python",
   "pygments_lexer": "ipython3",
   "version": "3.11.5"
  },
  "orig_nbformat": 4
 },
 "nbformat": 4,
 "nbformat_minor": 2
}
