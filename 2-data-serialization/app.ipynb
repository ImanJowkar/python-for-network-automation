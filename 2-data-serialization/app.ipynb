{
 "cells": [
  {
   "attachments": {},
   "cell_type": "markdown",
   "metadata": {},
   "source": [
    "## pickle data serialization"
   ]
  },
  {
   "cell_type": "code",
   "execution_count": 1,
   "metadata": {},
   "outputs": [
    {
     "ename": "TypeError",
     "evalue": "write() argument must be str, not dict",
     "output_type": "error",
     "traceback": [
      "\u001b[1;31m---------------------------------------------------------------------------\u001b[0m",
      "\u001b[1;31mTypeError\u001b[0m                                 Traceback (most recent call last)",
      "Cell \u001b[1;32mIn[1], line 3\u001b[0m\n\u001b[0;32m      1\u001b[0m friends \u001b[39m=\u001b[39m {\u001b[39m\"\u001b[39m\u001b[39miman\u001b[39m\u001b[39m\"\u001b[39m: [\u001b[39m20\u001b[39m, \u001b[39m\"\u001b[39m\u001b[39mlondon\u001b[39m\u001b[39m\"\u001b[39m, \u001b[39m23243\u001b[39m], \u001b[39m\"\u001b[39m\u001b[39msaman\u001b[39m\u001b[39m\"\u001b[39m:[\u001b[39m18\u001b[39m, \u001b[39m\"\u001b[39m\u001b[39mparis\u001b[39m\u001b[39m\"\u001b[39m, \u001b[39m345\u001b[39m]}\n\u001b[0;32m      2\u001b[0m \u001b[39mwith\u001b[39;00m \u001b[39mopen\u001b[39m(\u001b[39m'\u001b[39m\u001b[39mfriends.txt\u001b[39m\u001b[39m'\u001b[39m, \u001b[39m'\u001b[39m\u001b[39mw\u001b[39m\u001b[39m'\u001b[39m) \u001b[39mas\u001b[39;00m f:\n\u001b[1;32m----> 3\u001b[0m     f\u001b[39m.\u001b[39;49mwrite(friends)\n",
      "\u001b[1;31mTypeError\u001b[0m: write() argument must be str, not dict"
     ]
    }
   ],
   "source": [
    "friends = {\"iman\": [20, \"london\", 23243], \"saman\":[18, \"paris\", 345]}\n",
    "with open('friends.txt', 'w') as f:\n",
    "    f.write(friends)"
   ]
  },
  {
   "cell_type": "code",
   "execution_count": 2,
   "metadata": {},
   "outputs": [],
   "source": [
    "import pickle\n",
    "friends = {\"iman\": [20, \"london\", 23243], \"saman\":[18, \"paris\", 345]}\n",
    "with open('friends.dat', 'wb') as f:\n",
    "    pickle.dump(friends, f)"
   ]
  },
  {
   "cell_type": "code",
   "execution_count": 3,
   "metadata": {},
   "outputs": [
    {
     "name": "stdout",
     "output_type": "stream",
     "text": [
      "<class 'dict'>\n",
      "{'iman': [20, 'london', 23243], 'saman': [18, 'paris', 345]}\n"
     ]
    }
   ],
   "source": [
    "with open('friends.dat', 'rb') as f:\n",
    "    obj = pickle.load(f)\n",
    "    print(type(obj))\n",
    "    print(obj)"
   ]
  },
  {
   "attachments": {},
   "cell_type": "markdown",
   "metadata": {},
   "source": [
    "# json data serilization"
   ]
  },
  {
   "cell_type": "code",
   "execution_count": 8,
   "metadata": {},
   "outputs": [
    {
     "name": "stdout",
     "output_type": "stream",
     "text": [
      "{\n",
      "    \"Iman\": [\n",
      "        20,\n",
      "        \"shi\"\n",
      "    ],\n",
      "    \"sam\": [\n",
      "        17,\n",
      "        \"haji-aba\"\n",
      "    ]\n",
      "}\n"
     ]
    }
   ],
   "source": [
    "import json\n",
    "names = {\"Iman\": [20, 'shi'], \"sam\": [17, 'haji-aba']}\n",
    "with open('names.json', 'w') as f:\n",
    "    json.dump(names, f, indent=4)\n",
    "\n",
    "json_str = json.dumps(names, indent=4)\n",
    "print(json_str)"
   ]
  },
  {
   "attachments": {},
   "cell_type": "markdown",
   "metadata": {},
   "source": [
    "## Deserialization of json"
   ]
  },
  {
   "cell_type": "code",
   "execution_count": 11,
   "metadata": {},
   "outputs": [
    {
     "name": "stdout",
     "output_type": "stream",
     "text": [
      "{'Iman': [20, 'shi'], 'sam': [17, 'haji-aba']}\n"
     ]
    }
   ],
   "source": [
    "import json\n",
    "with open('names.json', 'rt') as f:\n",
    "    obj = json.load(f)\n",
    "\n"
   ]
  },
  {
   "cell_type": "code",
   "execution_count": null,
   "metadata": {},
   "outputs": [],
   "source": []
  },
  {
   "cell_type": "code",
   "execution_count": null,
   "metadata": {},
   "outputs": [],
   "source": []
  }
 ],
 "metadata": {
  "kernelspec": {
   "display_name": "Python 3",
   "language": "python",
   "name": "python3"
  },
  "language_info": {
   "codemirror_mode": {
    "name": "ipython",
    "version": 3
   },
   "file_extension": ".py",
   "mimetype": "text/x-python",
   "name": "python",
   "nbconvert_exporter": "python",
   "pygments_lexer": "ipython3",
   "version": "3.10.11"
  },
  "orig_nbformat": 4
 },
 "nbformat": 4,
 "nbformat_minor": 2
}
